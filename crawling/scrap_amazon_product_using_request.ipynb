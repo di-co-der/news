{
 "cells": [
  {
   "cell_type": "code",
   "id": "initial_id",
   "metadata": {
    "collapsed": true,
    "ExecuteTime": {
     "end_time": "2025-05-08T09:37:49.632201Z",
     "start_time": "2025-05-08T09:37:49.511563Z"
    }
   },
   "source": [
    "import requests\n",
    "from bs4 import BeautifulSoup\n",
    "import time\n",
    "import smtplib\n",
    "import datetime"
   ],
   "outputs": [],
   "execution_count": 1
  },
  {
   "metadata": {
    "ExecuteTime": {
     "end_time": "2025-05-08T09:37:49.653050Z",
     "start_time": "2025-05-08T09:37:49.648670Z"
    }
   },
   "cell_type": "code",
   "source": "url = 'https://www.amazon.in/Redmi-A4-5G-Sparkle-Charging/dp/B0DLW427YG/ref=sr_1_1_sspa?_encoding=UTF8&content-id=amzn1.sym.bd428427-e2fa-455b-845a-a54edb5f536f&dib=eyJ2IjoiMSJ9.Zu16M0f4gcJTITvmFzGqs09EXESHBn36UX9vRwLtp43PhS-3_IY2Fs73Ku6LbRlMIJ-BGLDG7ZZd2ctqJbqxv7vk6mrTF2l87iQWhN2qtRYWXCRutAfVXjCa6s9k8lYTdcgifhH_faDWuAyM1EmFgkLcz5HCH5PoTuKiJkZjPjGH1xy1OtH05DxdSO3P-dJ1heNXxYWzobMdKRP3M5E4Ta0jb0TVF9ZnoKSzGwgWY6u7GVXjITUOJHg7UoPtX3GxEtJrG6wAvgL4S38ajygckC1WHO4hX_D2y3HIHFLe8Lc.L5Y8AffFc-O4ioP4KMYOvwBicFzKvGvZrsYAoA_GYXU&dib_tag=se&pd_rd_r=56178e86-1b26-4ccb-a9fe-28a25be7649f&pd_rd_w=A11pD&pd_rd_wg=MYv29&qid=1746590515&refinements=p_36%3A-1030000&rnid=1318502031&s=electronics&sr=1-1-spons&sp_csd=d2lkZ2V0TmFtZT1zcF9hdGZfYnJvd3Nl&th=1'",
   "id": "189cf31b339223eb",
   "outputs": [],
   "execution_count": 2
  },
  {
   "metadata": {
    "ExecuteTime": {
     "end_time": "2025-05-08T09:37:49.747226Z",
     "start_time": "2025-05-08T09:37:49.745275Z"
    }
   },
   "cell_type": "code",
   "source": "TARGET_PRICE = 10000",
   "id": "9170429d3388b8e8",
   "outputs": [],
   "execution_count": 3
  },
  {
   "metadata": {
    "ExecuteTime": {
     "end_time": "2025-05-08T09:37:49.811742Z",
     "start_time": "2025-05-08T09:37:49.808586Z"
    }
   },
   "cell_type": "code",
   "source": "CHECK_INTERVAL = 300",
   "id": "b96bee07f03d0d8d",
   "outputs": [],
   "execution_count": 4
  },
  {
   "metadata": {
    "ExecuteTime": {
     "end_time": "2025-05-08T09:37:49.885109Z",
     "start_time": "2025-05-08T09:37:49.878821Z"
    }
   },
   "cell_type": "code",
   "source": [
    "headers = {\n",
    "    'authority': 'www.amazon.com',\n",
    "    'pragma': 'no-cache',\n",
    "    'cache-control': 'no-cache',\n",
    "    'dnt': '1',\n",
    "    'upgrade-insecure-requests': '1',\n",
    "    'user-agent': 'Mozilla/5.0 (X11; Linux x86_64) AppleWebKit/537.36 (KHTML, like Gecko) Chrome/135.0.0.0 Safari/537.36',\n",
    "    \"User-Agent1\": 'Mozilla/5.0 (X11; Ubuntu; Linux x86_64; rv:138.0) Gecko/20100101 Firefox/138.0',\n",
    "    'accept': 'text/html,application/xhtml+xml,application/xml;q=0.9,image/webp,image/apng,*/*;q=0.8,application/signed-exchange;v=b3;q=0.9',\n",
    "    'sec-fetch-site': 'none',\n",
    "    'sec-fetch-mode': 'navigate',\n",
    "    'sec-fetch-dest': 'document',\n",
    "    'accept-language': 'en-GB,en-US;q=0.9,en;q=0.8',\n",
    "}"
   ],
   "id": "7fc11f97a1250af1",
   "outputs": [],
   "execution_count": 5
  },
  {
   "metadata": {
    "ExecuteTime": {
     "end_time": "2025-05-08T09:37:49.934466Z",
     "start_time": "2025-05-08T09:37:49.931567Z"
    }
   },
   "cell_type": "code",
   "source": [
    "# Function to fetch the webpage\n",
    "def get_amazon_page():\n",
    "    time.sleep(2)  # Small delay to avoid being blocked\n",
    "    page = requests.get(url, headers=headers)\n",
    "    print(f\"Status Code: {page.status_code}\")\n",
    "    print(f\"URL: {page.url}\")\n",
    "    return page"
   ],
   "id": "f77725cc8f7896e6",
   "outputs": [],
   "execution_count": 6
  },
  {
   "metadata": {
    "ExecuteTime": {
     "end_time": "2025-05-08T09:37:50.005580Z",
     "start_time": "2025-05-08T09:37:49.997711Z"
    }
   },
   "cell_type": "code",
   "source": [
    "# Function to extract product title\n",
    "def get_title(soup):\n",
    "    try:\n",
    "        title = soup.find_all('h1', {'id': 'title'})[0].find_all('span')[0].text.strip()\n",
    "        return title\n",
    "    except:\n",
    "        try:\n",
    "            title = soup.find('span', {'id': 'productTitle'}).text.strip()\n",
    "            return title\n",
    "        except:\n",
    "            return \"Unknown Product\"\n"
   ],
   "id": "d84f55cbfc85b5c3",
   "outputs": [],
   "execution_count": 7
  },
  {
   "metadata": {
    "ExecuteTime": {
     "end_time": "2025-05-08T09:37:50.053235Z",
     "start_time": "2025-05-08T09:37:50.049390Z"
    }
   },
   "cell_type": "code",
   "source": [
    "def get_price(soup):\n",
    "    try:\n",
    "        price_text = soup.find_all('span', {'class': 'a-price-whole'})[0].text.strip()\n",
    "        price_text = price_text.replace(',', '').replace('.', '')\n",
    "        price = int(price_text)\n",
    "        return price\n",
    "    except Exception as e:\n",
    "        print(e)\n",
    "        return None"
   ],
   "id": "83cdb7aa75dfa987",
   "outputs": [],
   "execution_count": 8
  },
  {
   "metadata": {
    "ExecuteTime": {
     "end_time": "2025-05-08T09:37:50.106124Z",
     "start_time": "2025-05-08T09:37:50.101719Z"
    }
   },
   "cell_type": "code",
   "source": [
    "def amazon_send_email(title, price):\n",
    "    server = smtplib.SMTP('smtp.gmail.com', 587)\n",
    "    server.ehlo()\n",
    "    server.starttls()\n",
    "    server.ehlo()\n",
    "\n",
    "    server.login('divyansh.raghav@contify.com', 'bimymxkesiikjcey')\n",
    "\n",
    "    subject = f\"Price Alert: {title} is now Rs.{price}\"\n",
    "    body = f\"The price of {title} has dropped to Rs.{price}!\\n\"\n",
    "\n",
    "    message = f\"Subject: {subject}\\n\\n{body}\"\n",
    "\n",
    "    server.sendmail(\n",
    "        'divyansh.raghav@contify.com',\n",
    "        'raghavdivyansh9@gmail.com',\n",
    "        message\n",
    "    )\n",
    "\n",
    "    server.quit()\n",
    "    print(f\"Email sent at {datetime.datetime.now()}\")"
   ],
   "id": "eecb4e7fdb593ccc",
   "outputs": [],
   "execution_count": 9
  },
  {
   "metadata": {
    "ExecuteTime": {
     "end_time": "2025-05-08T09:37:50.172438Z",
     "start_time": "2025-05-08T09:37:50.168295Z"
    }
   },
   "cell_type": "code",
   "source": [
    "def check_price_once():\n",
    "    page = get_amazon_page()\n",
    "    soup = BeautifulSoup(page.content, 'html.parser')\n",
    "\n",
    "    title = get_title(soup)\n",
    "    price = get_price(soup)\n",
    "\n",
    "    print(f\"Product: {title}\")\n",
    "    print(f\"Current Price: ₹{price}\")\n",
    "\n",
    "    return title, price"
   ],
   "id": "1a012d91383f9cb0",
   "outputs": [],
   "execution_count": 10
  },
  {
   "metadata": {
    "ExecuteTime": {
     "end_time": "2025-05-08T09:37:58.311255Z",
     "start_time": "2025-05-08T09:37:50.238056Z"
    }
   },
   "cell_type": "code",
   "source": "title, price = check_price_once()",
   "id": "35fe704b18cccac1",
   "outputs": [
    {
     "name": "stdout",
     "output_type": "stream",
     "text": [
      "Status Code: 200\n",
      "URL: https://www.amazon.in/Redmi-A4-5G-Sparkle-Charging/dp/B0DLW427YG/ref=sr_1_1_sspa?_encoding=UTF8&content-id=amzn1.sym.bd428427-e2fa-455b-845a-a54edb5f536f&dib=eyJ2IjoiMSJ9.Zu16M0f4gcJTITvmFzGqs09EXESHBn36UX9vRwLtp43PhS-3_IY2Fs73Ku6LbRlMIJ-BGLDG7ZZd2ctqJbqxv7vk6mrTF2l87iQWhN2qtRYWXCRutAfVXjCa6s9k8lYTdcgifhH_faDWuAyM1EmFgkLcz5HCH5PoTuKiJkZjPjGH1xy1OtH05DxdSO3P-dJ1heNXxYWzobMdKRP3M5E4Ta0jb0TVF9ZnoKSzGwgWY6u7GVXjITUOJHg7UoPtX3GxEtJrG6wAvgL4S38ajygckC1WHO4hX_D2y3HIHFLe8Lc.L5Y8AffFc-O4ioP4KMYOvwBicFzKvGvZrsYAoA_GYXU&dib_tag=se&pd_rd_r=56178e86-1b26-4ccb-a9fe-28a25be7649f&pd_rd_w=A11pD&pd_rd_wg=MYv29&qid=1746590515&refinements=p_36%3A-1030000&rnid=1318502031&s=electronics&sr=1-1-spons&sp_csd=d2lkZ2V0TmFtZT1zcF9hdGZfYnJvd3Nl&th=1\n",
      "Product: Redmi A4 5G (Sparkle Purple, 4GB RAM, 64GB Storage) | Global Debut SD 4s Gen 2 | Segment Largest 6.88in 120Hz | 50MP Dual Camera | 18W Fast Charging\n",
      "Current Price: ₹7999\n"
     ]
    }
   ],
   "execution_count": 11
  },
  {
   "metadata": {
    "ExecuteTime": {
     "end_time": "2025-05-08T09:37:58.340772Z",
     "start_time": "2025-05-08T09:37:58.333711Z"
    }
   },
   "cell_type": "code",
   "source": [
    "def track_price_continuously():\n",
    "    print(f\"Starting price tracker. Target price: ₹{TARGET_PRICE}\")\n",
    "    print(f\"Checking every {CHECK_INTERVAL} seconds\")\n",
    "\n",
    "    last_price = None\n",
    "    notification_sent = False\n",
    "\n",
    "    try:\n",
    "        while True:\n",
    "            current_time = datetime.datetime.now().strftime(\"%Y-%m-%d %H:%M:%S\")\n",
    "            print(f\"\\nChecking price at {current_time}\")\n",
    "\n",
    "            title, price = check_price_once()\n",
    "\n",
    "            if price is None:\n",
    "                print(\"Could not retrieve price, will try again next interval\")\n",
    "            else:\n",
    "                # Check if price has changed\n",
    "                if last_price is not None and price != last_price:\n",
    "                    print(f\"Price changed from Rs.{last_price} to Rs.{price}\")\n",
    "\n",
    "                # Check if price is below target and notification hasn't been sent yet\n",
    "                if price <= TARGET_PRICE and not notification_sent:\n",
    "                    print(f\"Price Rs.{price} is below target Rs.{TARGET_PRICE}! Sending notification...\")\n",
    "                    amazon_send_email(title, price)\n",
    "                    notification_sent = True\n",
    "\n",
    "                # Reset notification flag if price goes above target again\n",
    "                elif price > TARGET_PRICE and notification_sent:\n",
    "                    print(\"Price is above target again. Will send another notification if it drops.\")\n",
    "                    notification_sent = False\n",
    "\n",
    "                last_price = price\n",
    "\n",
    "            print(f\"Next check in {CHECK_INTERVAL} seconds\")\n",
    "            time.sleep(CHECK_INTERVAL)\n",
    "\n",
    "    except KeyboardInterrupt:\n",
    "        print(\"\\nPrice tracking stopped by user\")\n",
    "    except Exception as e:\n",
    "        print(f\"An error occurred: {e}\")"
   ],
   "id": "61a9c4011f62f33b",
   "outputs": [],
   "execution_count": 12
  },
  {
   "metadata": {
    "ExecuteTime": {
     "end_time": "2025-05-08T09:38:01.827636Z",
     "start_time": "2025-05-08T09:37:58.398718Z"
    }
   },
   "cell_type": "code",
   "source": "title, price = check_price_once()",
   "id": "50c7b9c1c127e641",
   "outputs": [
    {
     "name": "stdout",
     "output_type": "stream",
     "text": [
      "Status Code: 200\n",
      "URL: https://www.amazon.in/Redmi-A4-5G-Sparkle-Charging/dp/B0DLW427YG/ref=sr_1_1_sspa?_encoding=UTF8&content-id=amzn1.sym.bd428427-e2fa-455b-845a-a54edb5f536f&dib=eyJ2IjoiMSJ9.Zu16M0f4gcJTITvmFzGqs09EXESHBn36UX9vRwLtp43PhS-3_IY2Fs73Ku6LbRlMIJ-BGLDG7ZZd2ctqJbqxv7vk6mrTF2l87iQWhN2qtRYWXCRutAfVXjCa6s9k8lYTdcgifhH_faDWuAyM1EmFgkLcz5HCH5PoTuKiJkZjPjGH1xy1OtH05DxdSO3P-dJ1heNXxYWzobMdKRP3M5E4Ta0jb0TVF9ZnoKSzGwgWY6u7GVXjITUOJHg7UoPtX3GxEtJrG6wAvgL4S38ajygckC1WHO4hX_D2y3HIHFLe8Lc.L5Y8AffFc-O4ioP4KMYOvwBicFzKvGvZrsYAoA_GYXU&dib_tag=se&pd_rd_r=56178e86-1b26-4ccb-a9fe-28a25be7649f&pd_rd_w=A11pD&pd_rd_wg=MYv29&qid=1746590515&refinements=p_36%3A-1030000&rnid=1318502031&s=electronics&sr=1-1-spons&sp_csd=d2lkZ2V0TmFtZT1zcF9hdGZfYnJvd3Nl&th=1\n",
      "Product: Redmi A4 5G (Sparkle Purple, 4GB RAM, 64GB Storage) | Global Debut SD 4s Gen 2 | Segment Largest 6.88in 120Hz | 50MP Dual Camera | 18W Fast Charging\n",
      "Current Price: ₹7999\n"
     ]
    }
   ],
   "execution_count": 13
  },
  {
   "metadata": {
    "ExecuteTime": {
     "end_time": "2025-05-08T09:38:01.846137Z",
     "start_time": "2025-05-08T09:38:01.843020Z"
    }
   },
   "cell_type": "code",
   "source": "# track_price_continuously()",
   "id": "911bf2a25967f41",
   "outputs": [],
   "execution_count": 14
  },
  {
   "metadata": {
    "ExecuteTime": {
     "end_time": "2025-05-08T09:38:05.410784Z",
     "start_time": "2025-05-08T09:38:01.896196Z"
    }
   },
   "cell_type": "code",
   "source": [
    "amazon_send_email(title, price)\n",
    "\n",
    "\n",
    "\n",
    "\n",
    "\n",
    "\n",
    "\n",
    "\n",
    "\n",
    "\n",
    "\n",
    "\n",
    "\n",
    "\n",
    "\n",
    "\n",
    "\n",
    "\n",
    "\n",
    "\n",
    "\n",
    "\n",
    "\n",
    "\n",
    "\n",
    "\n",
    "\n",
    "\n",
    "\n",
    "\n",
    "\n",
    "\n",
    "\n",
    "\n",
    "\n",
    "\n",
    "\n",
    "\n",
    "\n",
    "\n",
    "\n",
    "\n",
    "\n",
    "\n",
    "\n",
    "\n",
    "\n",
    "\n",
    "\n",
    "\n",
    "\n",
    "\n",
    "\n",
    "\n",
    "\n",
    "\n",
    "\n",
    "\n",
    "\n",
    "\n",
    "\n",
    "\n",
    "\n",
    "\n",
    "\n",
    "\n",
    "\n",
    "\n",
    "\n",
    "\n",
    "\n",
    "\n",
    "\n",
    "\n",
    "\n",
    "\n",
    "\n",
    "\n",
    "\n",
    "\n",
    "\n",
    "\n",
    "\n",
    "\n",
    "\n",
    "\n",
    "\n",
    "\n",
    "\n",
    "\n",
    "\n",
    "\n",
    "\n",
    "\n",
    "\n",
    "\n",
    "\n",
    "\n",
    "\n",
    "\n",
    "\n",
    "\n",
    "\n",
    "\n",
    "\n",
    "\n",
    "\n",
    "\n",
    "\n",
    "\n",
    "\n",
    "\n",
    "\n",
    "\n",
    "\n",
    "\n",
    "\n",
    "\n",
    "\n",
    "\n",
    "\n",
    "\n",
    "\n",
    "\n",
    "\n",
    "\n",
    "\n",
    "\n",
    "\n",
    "\n",
    "\n",
    "\n",
    "\n",
    "\n",
    "\n",
    "\n",
    "\n",
    "\n",
    "\n",
    "\n",
    "\n",
    "\n",
    "\n",
    "\n",
    "\n",
    "\n",
    "\n",
    "\n",
    "\n",
    "\n",
    "\n",
    "\n",
    "\n",
    "\n",
    "\n",
    "\n",
    "\n",
    "\n",
    "\n",
    "\n",
    "\n",
    "\n",
    "\n",
    "\n",
    "\n",
    "\n",
    "\n",
    "\n",
    "\n",
    "\n",
    "\n",
    "\n",
    "\n",
    "\n",
    "\n",
    "\n",
    "\n",
    "\n",
    "\n",
    "\n",
    "\n",
    "\n",
    "\n",
    "\n",
    "\n",
    "\n",
    "\n",
    "\n",
    "\n",
    "\n",
    "\n",
    "\n",
    "\n",
    "\n",
    "\n",
    "\n",
    "\n",
    "\n",
    "\n",
    "\n",
    "\n",
    "\n",
    "\n",
    "\n",
    "\n",
    "\n",
    "\n",
    "\n",
    "\n",
    "\n",
    "\n",
    "\n",
    "\n",
    "\n",
    "\n",
    "\n",
    "\n",
    "\n",
    "\n",
    "\n",
    "\n",
    "\n",
    "\n",
    "\n",
    "\n",
    "\n",
    "\n",
    "\n",
    "\n",
    "\n",
    "\n",
    "\n",
    "\n",
    "\n",
    "\n",
    "\n",
    "\n",
    "\n",
    "\n",
    "\n",
    "\n",
    "\n",
    "\n",
    "\n",
    "\n",
    "\n",
    "\n",
    "\n",
    "\n",
    "\n",
    "\n",
    "\n",
    "\n",
    "\n",
    "\n",
    "\n",
    "\n",
    "\n",
    "\n",
    "\n",
    "\n",
    "\n",
    "\n",
    "\n",
    "\n",
    "\n",
    "\n",
    "\n",
    "\n",
    "\n",
    "\n",
    "\n",
    "\n",
    "\n",
    "\n",
    "\n",
    "\n",
    "\n",
    "\n",
    "\n",
    "\n",
    "\n",
    "\n"
   ],
   "id": "70a10afbe2bab7d9",
   "outputs": [
    {
     "ename": "KeyboardInterrupt",
     "evalue": "",
     "output_type": "error",
     "traceback": [
      "\u001B[31m---------------------------------------------------------------------------\u001B[39m",
      "\u001B[31mKeyboardInterrupt\u001B[39m                         Traceback (most recent call last)",
      "\u001B[36mCell\u001B[39m\u001B[36m \u001B[39m\u001B[32mIn[15]\u001B[39m\u001B[32m, line 1\u001B[39m\n\u001B[32m----> \u001B[39m\u001B[32m1\u001B[39m \u001B[43mamazon_send_email\u001B[49m\u001B[43m(\u001B[49m\u001B[43mtitle\u001B[49m\u001B[43m,\u001B[49m\u001B[43m \u001B[49m\u001B[43mprice\u001B[49m\u001B[43m)\u001B[49m\n",
      "\u001B[36mCell\u001B[39m\u001B[36m \u001B[39m\u001B[32mIn[9]\u001B[39m\u001B[32m, line 14\u001B[39m, in \u001B[36mamazon_send_email\u001B[39m\u001B[34m(title, price)\u001B[39m\n\u001B[32m     10\u001B[39m body = \u001B[33mf\u001B[39m\u001B[33m\"\u001B[39m\u001B[33mThe price of \u001B[39m\u001B[38;5;132;01m{\u001B[39;00mtitle\u001B[38;5;132;01m}\u001B[39;00m\u001B[33m has dropped to Rs.\u001B[39m\u001B[38;5;132;01m{\u001B[39;00mprice\u001B[38;5;132;01m}\u001B[39;00m\u001B[33m!\u001B[39m\u001B[38;5;130;01m\\n\u001B[39;00m\u001B[33m\"\u001B[39m\n\u001B[32m     12\u001B[39m message = \u001B[33mf\u001B[39m\u001B[33m\"\u001B[39m\u001B[33mSubject: \u001B[39m\u001B[38;5;132;01m{\u001B[39;00msubject\u001B[38;5;132;01m}\u001B[39;00m\u001B[38;5;130;01m\\n\u001B[39;00m\u001B[38;5;130;01m\\n\u001B[39;00m\u001B[38;5;132;01m{\u001B[39;00mbody\u001B[38;5;132;01m}\u001B[39;00m\u001B[33m\"\u001B[39m\n\u001B[32m---> \u001B[39m\u001B[32m14\u001B[39m \u001B[43mserver\u001B[49m\u001B[43m.\u001B[49m\u001B[43msendmail\u001B[49m\u001B[43m(\u001B[49m\n\u001B[32m     15\u001B[39m \u001B[43m    \u001B[49m\u001B[33;43m'\u001B[39;49m\u001B[33;43mdivyansh.raghav@contify.com\u001B[39;49m\u001B[33;43m'\u001B[39;49m\u001B[43m,\u001B[49m\n\u001B[32m     16\u001B[39m \u001B[43m    \u001B[49m\u001B[33;43m'\u001B[39;49m\u001B[33;43mraghavdivyansh9@gmail.com\u001B[39;49m\u001B[33;43m'\u001B[39;49m\u001B[43m,\u001B[49m\n\u001B[32m     17\u001B[39m \u001B[43m    \u001B[49m\u001B[43mmessage\u001B[49m\n\u001B[32m     18\u001B[39m \u001B[43m\u001B[49m\u001B[43m)\u001B[49m\n\u001B[32m     20\u001B[39m server.quit()\n\u001B[32m     21\u001B[39m \u001B[38;5;28mprint\u001B[39m(\u001B[33mf\u001B[39m\u001B[33m\"\u001B[39m\u001B[33mEmail sent at \u001B[39m\u001B[38;5;132;01m{\u001B[39;00mdatetime.datetime.now()\u001B[38;5;132;01m}\u001B[39;00m\u001B[33m\"\u001B[39m)\n",
      "\u001B[36mFile \u001B[39m\u001B[32m~/.pyenv/versions/3.12.10/lib/python3.12/smtplib.py:891\u001B[39m, in \u001B[36mSMTP.sendmail\u001B[39m\u001B[34m(self, from_addr, to_addrs, msg, mail_options, rcpt_options)\u001B[39m\n\u001B[32m    889\u001B[39m     \u001B[38;5;28mself\u001B[39m._rset()\n\u001B[32m    890\u001B[39m     \u001B[38;5;28;01mraise\u001B[39;00m SMTPRecipientsRefused(senderrs)\n\u001B[32m--> \u001B[39m\u001B[32m891\u001B[39m (code, resp) = \u001B[38;5;28;43mself\u001B[39;49m\u001B[43m.\u001B[49m\u001B[43mdata\u001B[49m\u001B[43m(\u001B[49m\u001B[43mmsg\u001B[49m\u001B[43m)\u001B[49m\n\u001B[32m    892\u001B[39m \u001B[38;5;28;01mif\u001B[39;00m code != \u001B[32m250\u001B[39m:\n\u001B[32m    893\u001B[39m     \u001B[38;5;28;01mif\u001B[39;00m code == \u001B[32m421\u001B[39m:\n",
      "\u001B[36mFile \u001B[39m\u001B[32m~/.pyenv/versions/3.12.10/lib/python3.12/smtplib.py:580\u001B[39m, in \u001B[36mSMTP.data\u001B[39m\u001B[34m(self, msg)\u001B[39m\n\u001B[32m    578\u001B[39m q = q + \u001B[33mb\u001B[39m\u001B[33m\"\u001B[39m\u001B[33m.\u001B[39m\u001B[33m\"\u001B[39m + bCRLF\n\u001B[32m    579\u001B[39m \u001B[38;5;28mself\u001B[39m.send(q)\n\u001B[32m--> \u001B[39m\u001B[32m580\u001B[39m (code, msg) = \u001B[38;5;28;43mself\u001B[39;49m\u001B[43m.\u001B[49m\u001B[43mgetreply\u001B[49m\u001B[43m(\u001B[49m\u001B[43m)\u001B[49m\n\u001B[32m    581\u001B[39m \u001B[38;5;28;01mif\u001B[39;00m \u001B[38;5;28mself\u001B[39m.debuglevel > \u001B[32m0\u001B[39m:\n\u001B[32m    582\u001B[39m     \u001B[38;5;28mself\u001B[39m._print_debug(\u001B[33m'\u001B[39m\u001B[33mdata:\u001B[39m\u001B[33m'\u001B[39m, (code, msg))\n",
      "\u001B[36mFile \u001B[39m\u001B[32m~/.pyenv/versions/3.12.10/lib/python3.12/smtplib.py:398\u001B[39m, in \u001B[36mSMTP.getreply\u001B[39m\u001B[34m(self)\u001B[39m\n\u001B[32m    396\u001B[39m \u001B[38;5;28;01mwhile\u001B[39;00m \u001B[32m1\u001B[39m:\n\u001B[32m    397\u001B[39m     \u001B[38;5;28;01mtry\u001B[39;00m:\n\u001B[32m--> \u001B[39m\u001B[32m398\u001B[39m         line = \u001B[38;5;28;43mself\u001B[39;49m\u001B[43m.\u001B[49m\u001B[43mfile\u001B[49m\u001B[43m.\u001B[49m\u001B[43mreadline\u001B[49m\u001B[43m(\u001B[49m\u001B[43m_MAXLINE\u001B[49m\u001B[43m \u001B[49m\u001B[43m+\u001B[49m\u001B[43m \u001B[49m\u001B[32;43m1\u001B[39;49m\u001B[43m)\u001B[49m\n\u001B[32m    399\u001B[39m     \u001B[38;5;28;01mexcept\u001B[39;00m \u001B[38;5;167;01mOSError\u001B[39;00m \u001B[38;5;28;01mas\u001B[39;00m e:\n\u001B[32m    400\u001B[39m         \u001B[38;5;28mself\u001B[39m.close()\n",
      "\u001B[36mFile \u001B[39m\u001B[32m~/.pyenv/versions/3.12.10/lib/python3.12/socket.py:720\u001B[39m, in \u001B[36mSocketIO.readinto\u001B[39m\u001B[34m(self, b)\u001B[39m\n\u001B[32m    718\u001B[39m \u001B[38;5;28;01mwhile\u001B[39;00m \u001B[38;5;28;01mTrue\u001B[39;00m:\n\u001B[32m    719\u001B[39m     \u001B[38;5;28;01mtry\u001B[39;00m:\n\u001B[32m--> \u001B[39m\u001B[32m720\u001B[39m         \u001B[38;5;28;01mreturn\u001B[39;00m \u001B[38;5;28;43mself\u001B[39;49m\u001B[43m.\u001B[49m\u001B[43m_sock\u001B[49m\u001B[43m.\u001B[49m\u001B[43mrecv_into\u001B[49m\u001B[43m(\u001B[49m\u001B[43mb\u001B[49m\u001B[43m)\u001B[49m\n\u001B[32m    721\u001B[39m     \u001B[38;5;28;01mexcept\u001B[39;00m timeout:\n\u001B[32m    722\u001B[39m         \u001B[38;5;28mself\u001B[39m._timeout_occurred = \u001B[38;5;28;01mTrue\u001B[39;00m\n",
      "\u001B[36mFile \u001B[39m\u001B[32m~/.pyenv/versions/3.12.10/lib/python3.12/ssl.py:1251\u001B[39m, in \u001B[36mSSLSocket.recv_into\u001B[39m\u001B[34m(self, buffer, nbytes, flags)\u001B[39m\n\u001B[32m   1247\u001B[39m     \u001B[38;5;28;01mif\u001B[39;00m flags != \u001B[32m0\u001B[39m:\n\u001B[32m   1248\u001B[39m         \u001B[38;5;28;01mraise\u001B[39;00m \u001B[38;5;167;01mValueError\u001B[39;00m(\n\u001B[32m   1249\u001B[39m           \u001B[33m\"\u001B[39m\u001B[33mnon-zero flags not allowed in calls to recv_into() on \u001B[39m\u001B[38;5;132;01m%s\u001B[39;00m\u001B[33m\"\u001B[39m %\n\u001B[32m   1250\u001B[39m           \u001B[38;5;28mself\u001B[39m.\u001B[34m__class__\u001B[39m)\n\u001B[32m-> \u001B[39m\u001B[32m1251\u001B[39m     \u001B[38;5;28;01mreturn\u001B[39;00m \u001B[38;5;28;43mself\u001B[39;49m\u001B[43m.\u001B[49m\u001B[43mread\u001B[49m\u001B[43m(\u001B[49m\u001B[43mnbytes\u001B[49m\u001B[43m,\u001B[49m\u001B[43m \u001B[49m\u001B[43mbuffer\u001B[49m\u001B[43m)\u001B[49m\n\u001B[32m   1252\u001B[39m \u001B[38;5;28;01melse\u001B[39;00m:\n\u001B[32m   1253\u001B[39m     \u001B[38;5;28;01mreturn\u001B[39;00m \u001B[38;5;28msuper\u001B[39m().recv_into(buffer, nbytes, flags)\n",
      "\u001B[36mFile \u001B[39m\u001B[32m~/.pyenv/versions/3.12.10/lib/python3.12/ssl.py:1103\u001B[39m, in \u001B[36mSSLSocket.read\u001B[39m\u001B[34m(self, len, buffer)\u001B[39m\n\u001B[32m   1101\u001B[39m \u001B[38;5;28;01mtry\u001B[39;00m:\n\u001B[32m   1102\u001B[39m     \u001B[38;5;28;01mif\u001B[39;00m buffer \u001B[38;5;129;01mis\u001B[39;00m \u001B[38;5;129;01mnot\u001B[39;00m \u001B[38;5;28;01mNone\u001B[39;00m:\n\u001B[32m-> \u001B[39m\u001B[32m1103\u001B[39m         \u001B[38;5;28;01mreturn\u001B[39;00m \u001B[38;5;28;43mself\u001B[39;49m\u001B[43m.\u001B[49m\u001B[43m_sslobj\u001B[49m\u001B[43m.\u001B[49m\u001B[43mread\u001B[49m\u001B[43m(\u001B[49m\u001B[38;5;28;43mlen\u001B[39;49m\u001B[43m,\u001B[49m\u001B[43m \u001B[49m\u001B[43mbuffer\u001B[49m\u001B[43m)\u001B[49m\n\u001B[32m   1104\u001B[39m     \u001B[38;5;28;01melse\u001B[39;00m:\n\u001B[32m   1105\u001B[39m         \u001B[38;5;28;01mreturn\u001B[39;00m \u001B[38;5;28mself\u001B[39m._sslobj.read(\u001B[38;5;28mlen\u001B[39m)\n",
      "\u001B[31mKeyboardInterrupt\u001B[39m: "
     ]
    }
   ],
   "execution_count": 15
  }
 ],
 "metadata": {
  "kernelspec": {
   "display_name": "Python 3",
   "language": "python",
   "name": "python3"
  },
  "language_info": {
   "codemirror_mode": {
    "name": "ipython",
    "version": 2
   },
   "file_extension": ".py",
   "mimetype": "text/x-python",
   "name": "python",
   "nbconvert_exporter": "python",
   "pygments_lexer": "ipython2",
   "version": "2.7.6"
  }
 },
 "nbformat": 4,
 "nbformat_minor": 5
}
