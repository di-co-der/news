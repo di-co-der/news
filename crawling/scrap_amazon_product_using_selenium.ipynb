{
 "cells": [
  {
   "cell_type": "code",
   "id": "initial_id",
   "metadata": {
    "collapsed": true,
    "ExecuteTime": {
     "end_time": "2025-05-08T07:27:59.184053Z",
     "start_time": "2025-05-08T07:27:59.081657Z"
    }
   },
   "source": [
    "\n",
    "\n",
    "\n",
    "\n",
    "\n",
    "\n",
    "\n",
    "\n",
    "\n",
    "\n",
    "\n",
    "\n",
    "\n",
    "\n",
    "\n",
    "\n",
    "\n",
    "\n",
    "\n",
    "\n",
    "\n",
    "\n",
    "\n",
    "from mistune.plugins.abbr import process_text\n",
    "from selenium import webdriver\n",
    "from selenium.webdriver.chrome.options import Options\n",
    "from selenium.webdriver.common.by import By\n",
    "from selenium.webdriver.support.ui import WebDriverWait\n",
    "from selenium.webdriver.support import expected_conditions as EC\n",
    "import time\n",
    "import datetime\n",
    "import smtplib"
   ],
   "outputs": [],
   "execution_count": 74
  },
  {
   "metadata": {
    "ExecuteTime": {
     "end_time": "2025-05-08T07:27:59.263217Z",
     "start_time": "2025-05-08T07:27:59.254601Z"
    }
   },
   "cell_type": "code",
   "source": "url = 'https://www.amazon.in/Redmi-A4-5G-Sparkle-Charging/dp/B0DLW427YG/ref=sr_1_1_sspa?_encoding=UTF8&content-id=amzn1.sym.bd428427-e2fa-455b-845a-a54edb5f536f&dib=eyJ2IjoiMSJ9.Zu16M0f4gcJTITvmFzGqs09EXESHBn36UX9vRwLtp43PhS-3_IY2Fs73Ku6LbRlMIJ-BGLDG7ZZd2ctqJbqxv7vk6mrTF2l87iQWhN2qtRYWXCRutAfVXjCa6s9k8lYTdcgifhH_faDWuAyM1EmFgkLcz5HCH5PoTuKiJkZjPjGH1xy1OtH05DxdSO3P-dJ1heNXxYWzobMdKRP3M5E4Ta0jb0TVF9ZnoKSzGwgWY6u7GVXjITUOJHg7UoPtX3GxEtJrG6wAvgL4S38ajygckC1WHO4hX_D2y3HIHFLe8Lc.L5Y8AffFc-O4ioP4KMYOvwBicFzKvGvZrsYAoA_GYXU&dib_tag=se&pd_rd_r=56178e86-1b26-4ccb-a9fe-28a25be7649f&pd_rd_w=A11pD&pd_rd_wg=MYv29&qid=1746590515&refinements=p_36%3A-1030000&rnid=1318502031&s=electronics&sr=1-1-spons&sp_csd=d2lkZ2V0TmFtZT1zcF9hdGZfYnJvd3Nl&th=1'",
   "id": "87866cd27e77e202",
   "outputs": [],
   "execution_count": 75
  },
  {
   "metadata": {
    "ExecuteTime": {
     "end_time": "2025-05-08T07:27:59.296420Z",
     "start_time": "2025-05-08T07:27:59.288269Z"
    }
   },
   "cell_type": "code",
   "source": "TARGET_PRICE = 10000",
   "id": "4056a628aeb70764",
   "outputs": [],
   "execution_count": 76
  },
  {
   "metadata": {
    "ExecuteTime": {
     "end_time": "2025-05-08T07:27:59.353835Z",
     "start_time": "2025-05-08T07:27:59.347524Z"
    }
   },
   "cell_type": "code",
   "source": "CHECK_INTERVAL = 300",
   "id": "1fd6c427cc52c969",
   "outputs": [],
   "execution_count": 77
  },
  {
   "metadata": {
    "ExecuteTime": {
     "end_time": "2025-05-08T07:27:59.435939Z",
     "start_time": "2025-05-08T07:27:59.418421Z"
    }
   },
   "cell_type": "code",
   "source": [
    "def initialize_driver():\n",
    "    chrome_options = Options()\n",
    "    # chrome_options.add_argument(\"--headless\")  # Run in headless mode (no browser window)\n",
    "    chrome_options.add_argument(\"--no-sandbox\")\n",
    "    chrome_options.add_argument(\"--disable-dev-shm-usage\")\n",
    "    chrome_options.add_argument(\"--disable-gpu\")\n",
    "    chrome_options.add_argument(\"--window-size=1920,1080\")\n",
    "    chrome_options.add_argument(\"--user-agent=Mozilla/5.0 (Windows NT 10.0; Win64; x64) AppleWebKit/537.36 (KHTML, like Gecko) Chrome/135.0.0.0 Safari/537.36 Edg/135.0.100.0\")\n",
    "\n",
    "    driver = webdriver.Chrome(options=chrome_options)\n",
    "    return driver"
   ],
   "id": "77f2b2a61d87f6c4",
   "outputs": [],
   "execution_count": 78
  },
  {
   "metadata": {
    "ExecuteTime": {
     "end_time": "2025-05-08T07:27:59.505548Z",
     "start_time": "2025-05-08T07:27:59.485884Z"
    }
   },
   "cell_type": "code",
   "source": [
    "from selenium.webdriver.common.by import By\n",
    "from selenium.webdriver.support.ui import WebDriverWait\n",
    "from selenium.webdriver.support import expected_conditions as EC\n",
    "\n",
    "def get_product_details():\n",
    "    driver = None\n",
    "    try:\n",
    "        driver = initialize_driver()\n",
    "        driver.get(url)\n",
    "\n",
    "        wait = WebDriverWait(driver, 15)\n",
    "\n",
    "        # Extract title\n",
    "        title_element = wait.until(EC.presence_of_element_located((By.ID, \"productTitle\")))\n",
    "        title = title_element.text.strip()\n",
    "        print(\"Title:\", title)\n",
    "\n",
    "        # Wait for the price container and extract visible text\n",
    "        price_container = wait.until(EC.visibility_of_element_located((\n",
    "            By.CLASS_NAME, \"priceToPay\"\n",
    "        )))\n",
    "        price_text = price_container.text.strip()\n",
    "\n",
    "        # Example result: \"₹7,999\"\n",
    "        if price_text:\n",
    "            # Extract digits from ₹7,999 safely\n",
    "            import re\n",
    "            price_digits = re.sub(r'[^\\d]', '', price_text)\n",
    "            if price_digits:\n",
    "                price = int(price_digits)\n",
    "                print(\"Price:\", price)\n",
    "                return title, price\n",
    "\n",
    "        print(\"Price element found but text is empty\")\n",
    "        return title, None\n",
    "\n",
    "    except Exception as e:\n",
    "        print(f\"Error: {e}\")\n",
    "        return None, None\n",
    "\n",
    "    finally:\n",
    "        if driver:\n",
    "            driver.quit()\n"
   ],
   "id": "bbf158f7a598bddc",
   "outputs": [],
   "execution_count": 79
  },
  {
   "metadata": {
    "ExecuteTime": {
     "end_time": "2025-05-08T07:28:07.836036Z",
     "start_time": "2025-05-08T07:27:59.550088Z"
    }
   },
   "cell_type": "code",
   "source": "  get_product_details()",
   "id": "f9a970ed254d4edc",
   "outputs": [
    {
     "name": "stdout",
     "output_type": "stream",
     "text": [
      "Title: Redmi A4 5G (Sparkle Purple, 4GB RAM, 64GB Storage) | Global Debut SD 4s Gen 2 | Segment Largest 6.88in 120Hz | 50MP Dual Camera | 18W Fast Charging\n",
      "Price: 7999\n"
     ]
    },
    {
     "data": {
      "text/plain": [
       "('Redmi A4 5G (Sparkle Purple, 4GB RAM, 64GB Storage) | Global Debut SD 4s Gen 2 | Segment Largest 6.88in 120Hz | 50MP Dual Camera | 18W Fast Charging',\n",
       " 7999)"
      ]
     },
     "execution_count": 80,
     "metadata": {},
     "output_type": "execute_result"
    }
   ],
   "execution_count": 80
  },
  {
   "metadata": {
    "ExecuteTime": {
     "end_time": "2025-05-08T07:28:07.902264Z",
     "start_time": "2025-05-08T07:28:07.887448Z"
    }
   },
   "cell_type": "code",
   "source": [
    "def amazon_send_email(title, price):\n",
    "    server = smtplib.SMTP('smtp.gmail.com', 587)\n",
    "    server.ehlo()\n",
    "    server.starttls()\n",
    "    server.ehlo()\n",
    "\n",
    "    server.login('divyansh.raghav@contify.com', 'bimymxkesiikjcey')\n",
    "\n",
    "    subject = f\"Price Alert: {title} is now Rs.{price}\"\n",
    "    body = f\"The price of {title} has dropped to Rs.{price}!\\n\"\n",
    "\n",
    "    message = f\"Subject: {subject}\\n\\n{body}\"\n",
    "\n",
    "    server.sendmail(\n",
    "        'divyansh.raghav@contify.com',\n",
    "        'raghavdivyansh9@gmail.com',\n",
    "        message\n",
    "    )\n",
    "\n",
    "    server.quit()\n",
    "    print(f\"Email sent at {datetime.datetime.now()}\")"
   ],
   "id": "a907b8b9da439a6a",
   "outputs": [],
   "execution_count": 81
  },
  {
   "metadata": {
    "ExecuteTime": {
     "end_time": "2025-05-08T07:28:07.984360Z",
     "start_time": "2025-05-08T07:28:07.974034Z"
    }
   },
   "cell_type": "code",
   "source": [
    "def check_price_once():\n",
    "    print(f\"Checking price at {datetime.datetime.now().strftime('%Y-%m-%d %H:%M:%S')}\")\n",
    "\n",
    "    title, price = get_product_details()\n",
    "\n",
    "    if title and price:\n",
    "        print(f\"Product: {title}\")\n",
    "        print(f\"Current Price: Rs.{price}\")\n",
    "    else:\n",
    "        print(\"Could not retrieve product details\")\n",
    "\n",
    "    return title, price"
   ],
   "id": "76b1cbf66bf898e7",
   "outputs": [],
   "execution_count": 82
  },
  {
   "metadata": {
    "ExecuteTime": {
     "end_time": "2025-05-08T07:28:20.011051Z",
     "start_time": "2025-05-08T07:28:08.036495Z"
    }
   },
   "cell_type": "code",
   "source": "title, price = check_price_once()",
   "id": "3ec19cd7296e9395",
   "outputs": [
    {
     "name": "stdout",
     "output_type": "stream",
     "text": [
      "Checking price at 2025-05-08 12:58:08\n",
      "Title: Redmi A4 5G (Sparkle Purple, 4GB RAM, 64GB Storage) | Global Debut SD 4s Gen 2 | Segment Largest 6.88in 120Hz | 50MP Dual Camera | 18W Fast Charging\n",
      "Price: 7999\n",
      "Product: Redmi A4 5G (Sparkle Purple, 4GB RAM, 64GB Storage) | Global Debut SD 4s Gen 2 | Segment Largest 6.88in 120Hz | 50MP Dual Camera | 18W Fast Charging\n",
      "Current Price: Rs.7999\n"
     ]
    }
   ],
   "execution_count": 83
  },
  {
   "metadata": {
    "ExecuteTime": {
     "end_time": "2025-05-08T07:28:24.249446Z",
     "start_time": "2025-05-08T07:28:20.077513Z"
    }
   },
   "cell_type": "code",
   "source": "amazon_send_email(title, price)",
   "id": "cc0093aba4653070",
   "outputs": [
    {
     "name": "stdout",
     "output_type": "stream",
     "text": [
      "Email sent at 2025-05-08 12:58:24.244959\n"
     ]
    }
   ],
   "execution_count": 84
  },
  {
   "metadata": {
    "ExecuteTime": {
     "end_time": "2025-05-08T07:28:35.854434Z",
     "start_time": "2025-05-08T07:28:24.276869Z"
    }
   },
   "cell_type": "code",
   "source": "get_product_details()",
   "id": "3a705a73e7bcca6f",
   "outputs": [
    {
     "name": "stdout",
     "output_type": "stream",
     "text": [
      "Title: Redmi A4 5G (Sparkle Purple, 4GB RAM, 64GB Storage) | Global Debut SD 4s Gen 2 | Segment Largest 6.88in 120Hz | 50MP Dual Camera | 18W Fast Charging\n",
      "Price: 7999\n"
     ]
    },
    {
     "data": {
      "text/plain": [
       "('Redmi A4 5G (Sparkle Purple, 4GB RAM, 64GB Storage) | Global Debut SD 4s Gen 2 | Segment Largest 6.88in 120Hz | 50MP Dual Camera | 18W Fast Charging',\n",
       " 7999)"
      ]
     },
     "execution_count": 85,
     "metadata": {},
     "output_type": "execute_result"
    }
   ],
   "execution_count": 85
  },
  {
   "metadata": {
    "ExecuteTime": {
     "end_time": "2025-05-08T07:28:35.887727Z",
     "start_time": "2025-05-08T07:28:35.884299Z"
    }
   },
   "cell_type": "code",
   "source": "",
   "id": "3aa91b2fd746664",
   "outputs": [],
   "execution_count": null
  },
  {
   "metadata": {
    "ExecuteTime": {
     "end_time": "2025-05-08T07:28:35.951066Z",
     "start_time": "2025-05-08T07:28:35.946156Z"
    }
   },
   "cell_type": "code",
   "source": "",
   "id": "10755bd7abbf2cfe",
   "outputs": [],
   "execution_count": null
  },
  {
   "metadata": {
    "ExecuteTime": {
     "end_time": "2025-05-08T07:28:36.009709Z",
     "start_time": "2025-05-08T07:28:36.005308Z"
    }
   },
   "cell_type": "code",
   "source": "",
   "id": "d0a20f72ea2473fe",
   "outputs": [],
   "execution_count": null
  },
  {
   "metadata": {
    "ExecuteTime": {
     "end_time": "2025-05-08T07:28:36.078833Z",
     "start_time": "2025-05-08T07:28:36.073587Z"
    }
   },
   "cell_type": "code",
   "source": "",
   "id": "aac954802f786867",
   "outputs": [],
   "execution_count": null
  }
 ],
 "metadata": {
  "kernelspec": {
   "display_name": "Python 3",
   "language": "python",
   "name": "python3"
  },
  "language_info": {
   "codemirror_mode": {
    "name": "ipython",
    "version": 2
   },
   "file_extension": ".py",
   "mimetype": "text/x-python",
   "name": "python",
   "nbconvert_exporter": "python",
   "pygments_lexer": "ipython2",
   "version": "2.7.6"
  }
 },
 "nbformat": 4,
 "nbformat_minor": 5
}
